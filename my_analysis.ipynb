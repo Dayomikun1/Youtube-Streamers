{
 "cells": [
  {
   "cell_type": "markdown",
   "metadata": {},
   "source": [
    "<h2>Youtube Streamers Analysis</h2>"
   ]
  },
  {
   "cell_type": "code",
   "execution_count": 1,
   "metadata": {},
   "outputs": [],
   "source": [
    "import pandas as pd\n",
    "import numpy as np\n",
    "import missingno as msno\n",
    "import matplotlib.pyplot as plt\n",
    "import seaborn as sns"
   ]
  },
  {
   "cell_type": "code",
   "execution_count": 3,
   "metadata": {},
   "outputs": [],
   "source": [
    "df = pd.read_csv(r\"C:\\Users\\DELL\\Desktop\\Main\\4\\Projects\\4a\\Youtube Streamers\\youtubers_df.csv\")"
   ]
  },
  {
   "cell_type": "markdown",
   "metadata": {},
   "source": [
    "<h3>Inspecting the Data Structure</h3>"
   ]
  },
  {
   "cell_type": "code",
   "execution_count": 10,
   "metadata": {},
   "outputs": [
    {
     "name": "stdout",
     "output_type": "stream",
     "text": [
      "   Rank       Username           Categories   Suscribers         Country  \\\n",
      "0     1        tseries       Música y baile  249500000.0           India   \n",
      "1     2        MrBeast   Videojuegos, Humor  183500000.0  Estados Unidos   \n",
      "2     3      CoComelon            Educación  165500000.0         Unknown   \n",
      "3     4       SETIndia                  NaN  162600000.0           India   \n",
      "4     5  KidsDianaShow  Animación, Juguetes  113500000.0         Unknown   \n",
      "\n",
      "        Visits      Likes  Comments  \\\n",
      "0      86200.0     2700.0      78.0   \n",
      "1  117400000.0  5300000.0   18500.0   \n",
      "2    7000000.0    24700.0       0.0   \n",
      "3      15600.0      166.0       9.0   \n",
      "4    3900000.0    12400.0       0.0   \n",
      "\n",
      "                                               Links  \n",
      "0  http://youtube.com/channel/UCq-Fj5jknLsUf-MWSy...  \n",
      "1  http://youtube.com/channel/UCX6OQ3DkcsbYNE6H8u...  \n",
      "2  http://youtube.com/channel/UCbCmjCuTUZos6Inko4...  \n",
      "3  http://youtube.com/channel/UCpEhnqL0y41EpW2TvW...  \n",
      "4  http://youtube.com/channel/UCk8GzjMOrta8yxDcKf...  \n",
      "<class 'pandas.core.frame.DataFrame'>\n",
      "RangeIndex: 1000 entries, 0 to 999\n",
      "Data columns (total 9 columns):\n",
      " #   Column      Non-Null Count  Dtype  \n",
      "---  ------      --------------  -----  \n",
      " 0   Rank        1000 non-null   int64  \n",
      " 1   Username    1000 non-null   object \n",
      " 2   Categories  694 non-null    object \n",
      " 3   Suscribers  1000 non-null   float64\n",
      " 4   Country     1000 non-null   object \n",
      " 5   Visits      1000 non-null   float64\n",
      " 6   Likes       1000 non-null   float64\n",
      " 7   Comments    1000 non-null   float64\n",
      " 8   Links       1000 non-null   object \n",
      "dtypes: float64(4), int64(1), object(4)\n",
      "memory usage: 70.4+ KB\n",
      "None\n"
     ]
    }
   ],
   "source": [
    "print(df.head()) #Displays first five columns of the dataset\n",
    "\n",
    "print(df.info()) #Provides the basic Information about the dataset provided"
   ]
  },
  {
   "cell_type": "code",
   "execution_count": 12,
   "metadata": {},
   "outputs": [
    {
     "name": "stdout",
     "output_type": "stream",
     "text": [
      "(1000, 9)\n",
      "Index(['Rank', 'Username', 'Categories', 'Suscribers', 'Country', 'Visits',\n",
      "       'Likes', 'Comments', 'Links'],\n",
      "      dtype='object')\n"
     ]
    }
   ],
   "source": [
    "print(df.shape) #Provides the row and columns of the dataset provided\n",
    "\n",
    "print(df.columns) #Provides the items or variable present in each of the columns\n"
   ]
  },
  {
   "cell_type": "markdown",
   "metadata": {},
   "source": [
    "<h3> Performing Exploratory Data Analysis</h3>"
   ]
  },
  {
   "cell_type": "code",
   "execution_count": null,
   "metadata": {},
   "outputs": [
    {
     "name": "stdout",
     "output_type": "stream",
     "text": [
      "              Rank    Suscribers        Visits         Likes       Comments\n",
      "count  1000.000000  1.000000e+03  1.000000e+03  1.000000e+03    1000.000000\n",
      "mean    500.500000  2.189440e+07  1.209446e+06  5.363259e+04    1288.768000\n",
      "std     288.819436  1.682775e+07  5.229942e+06  2.580457e+05    6778.188308\n",
      "min       1.000000  1.170000e+07  0.000000e+00  0.000000e+00       0.000000\n",
      "25%     250.750000  1.380000e+07  3.197500e+04  4.717500e+02       2.000000\n",
      "50%     500.500000  1.675000e+07  1.744500e+05  3.500000e+03      67.000000\n",
      "75%     750.250000  2.370000e+07  8.654750e+05  2.865000e+04     472.000000\n",
      "max    1000.000000  2.495000e+08  1.174000e+08  5.300000e+06  154000.000000\n"
     ]
    }
   ],
   "source": [
    "print(df.describe)"
   ]
  },
  {
   "cell_type": "code",
   "execution_count": 28,
   "metadata": {},
   "outputs": [
    {
     "name": "stdout",
     "output_type": "stream",
     "text": [
      "Rank            0\n",
      "Username        0\n",
      "Categories    306\n",
      "Suscribers      0\n",
      "Country         0\n",
      "Visits          0\n",
      "Likes           0\n",
      "Comments        0\n",
      "Links           0\n",
      "dtype: int64\n",
      "0      False\n",
      "1      False\n",
      "2      False\n",
      "3      False\n",
      "4      False\n",
      "       ...  \n",
      "995    False\n",
      "996    False\n",
      "997    False\n",
      "998    False\n",
      "999    False\n",
      "Length: 1000, dtype: bool\n",
      "Rank            int64\n",
      "Username       object\n",
      "Categories     object\n",
      "Suscribers    float64\n",
      "Country        object\n",
      "Visits        float64\n",
      "Likes         float64\n",
      "Comments      float64\n",
      "Links          object\n",
      "dtype: object\n"
     ]
    }
   ],
   "source": [
    "print(df.isnull().sum()) #Checks for missing values in each of the columns of the dataset.\n",
    "print(df.duplicated()) #Checks if there is any duplicate value present in the dataset.\n",
    "print(df.dtypes) # Checks for the data types assigned to each of the column variables\n",
    "\n"
   ]
  },
  {
   "cell_type": "code",
   "execution_count": 48,
   "metadata": {},
   "outputs": [
    {
     "name": "stdout",
     "output_type": "stream",
     "text": [
      "Música y baile\n",
      "False\n",
      "Index(['Rank', 'Username', 'Categories', 'Subscribers', 'Country', 'Visits',\n",
      "       'Likes', 'Comments', 'Links'],\n",
      "      dtype='object')\n"
     ]
    },
    {
     "data": {
      "text/plain": [
       "Index(['Rank', 'Username', 'Categories', 'Subscribers', 'Country', 'Visits',\n",
       "       'Likes', 'Comments', 'Links'],\n",
       "      dtype='object')"
      ]
     },
     "execution_count": 48,
     "metadata": {},
     "output_type": "execute_result"
    }
   ],
   "source": [
    "#To remove or handle the missing data \n",
    "\n",
    "most_frequent = df['Categories'].mode()[0]\n",
    "print(most_frequent)\n",
    "\n",
    "df['Categories'] = df['Categories'].fillna(most_frequent) # replacing the empty columns with the most frequent column value\n",
    "print(df.isnull().values.any()) #Checking if there is still nay missing column present \n",
    "\n",
    "#Changing the column name spelling \n",
    "print(df.columns)\n",
    "df.rename(columns={'Suscribers': 'Subscribers'}, inplace= True)\n",
    "df.columns"
   ]
  },
  {
   "cell_type": "code",
   "execution_count": null,
   "metadata": {},
   "outputs": [],
   "source": []
  }
 ],
 "metadata": {
  "kernelspec": {
   "display_name": "Python 3",
   "language": "python",
   "name": "python3"
  },
  "language_info": {
   "codemirror_mode": {
    "name": "ipython",
    "version": 3
   },
   "file_extension": ".py",
   "mimetype": "text/x-python",
   "name": "python",
   "nbconvert_exporter": "python",
   "pygments_lexer": "ipython3",
   "version": "3.12.0"
  }
 },
 "nbformat": 4,
 "nbformat_minor": 2
}
